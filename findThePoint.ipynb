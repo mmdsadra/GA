{
  "nbformat": 4,
  "nbformat_minor": 0,
  "metadata": {
    "colab": {
      "provenance": [],
      "authorship_tag": "ABX9TyOOfz4beoGOdTuM2vofLzYI",
      "include_colab_link": true
    },
    "kernelspec": {
      "name": "python3",
      "display_name": "Python 3"
    },
    "language_info": {
      "name": "python"
    }
  },
  "cells": [
    {
      "cell_type": "markdown",
      "metadata": {
        "id": "view-in-github",
        "colab_type": "text"
      },
      "source": [
        "<a href=\"https://colab.research.google.com/github/mmdsadra/GA/blob/main/findThePoint.ipynb\" target=\"_parent\"><img src=\"https://colab.research.google.com/assets/colab-badge.svg\" alt=\"Open In Colab\"/></a>"
      ]
    },
    {
      "cell_type": "code",
      "source": [
        "n = int(input())\n",
        "k = int(input())\n",
        "p = [int(input()) for _ in range(k)]"
      ],
      "metadata": {
        "id": "RYqMZkmVodnN",
        "outputId": "033ee955-c362-450a-9dfd-675bb22653b6",
        "colab": {
          "base_uri": "https://localhost:8080/"
        }
      },
      "execution_count": null,
      "outputs": [
        {
          "name": "stdout",
          "output_type": "stream",
          "text": [
            "6\n",
            "6\n",
            "-30\n",
            "30\n",
            "-20\n",
            "20\n",
            "10\n",
            "-10\n"
          ]
        }
      ]
    },
    {
      "cell_type": "code",
      "source": [
        "import random\n",
        "def init_first_pop(size, n):\n",
        "  ch = []\n",
        "  for i in range(size):\n",
        "    ch.append([random.getrandbits(1) for _ in range((n + 1))])\n",
        "  return ch\n",
        "\n",
        "def cross_over(ch, n, pc): #1point\n",
        "  newPop = []\n",
        "  for i in range(len(ch)):\n",
        "    if(random.random() <= pc):\n",
        "      r = random.randint(1, len(ch[i]) - 1)\n",
        "      newPop.append(ch[i][:r] + ch[(i+1) % (n)][r:])\n",
        "    else:\n",
        "      newPop.append(ch[i])\n",
        "  return newPop\n",
        "\n",
        "def mutation(ch, n, pm):\n",
        "  newPop = []\n",
        "  for i in range(len(ch)):\n",
        "    if(random.random() <= pm):\n",
        "      r = random.randint(1, len(ch[i]) - 1)\n",
        "      newPop.append(ch[i][:r-1] + [(ch[i][r] + 1) % 2] + ch[i][r:])\n",
        "    else:\n",
        "      newPop.append(ch[i])\n",
        "  return newPop\n",
        "\n",
        "def toInt(s):\n",
        "  z = 1\n",
        "  if(s[0] == '1'):\n",
        "    z = -1\n",
        "  tmp = int(s[1:], 2)\n",
        "  return tmp * z\n",
        "\n",
        "def OF(a):\n",
        "  sum = 0\n",
        "  for point in p:\n",
        "    sum += (toInt(''.join(map(str, a))) - point) #edit / no negative!\n",
        "  return sum\n",
        "\n",
        "def FF(a):\n",
        "  return 1/(OF(a) + 1)\n",
        "\n",
        "def selection(ch, new_ch, n):\n",
        "  newPop = []\n",
        "  bestOld = ch[0]\n",
        "  for point in ch:\n",
        "    if(FF(point) >= FF(bestOld)):\n",
        "      bestOld = point\n",
        "  sumOfFF = 0\n",
        "  maxFF = -10\n",
        "  for point in new_ch:\n",
        "    tmp = FF(point)\n",
        "    sumOfFF += tmp\n",
        "    if(tmp >= maxFF):\n",
        "      maxFF = tmp\n",
        "  P = []\n",
        "  for point in new_ch:\n",
        "    P.append(FF(point) / sumOfFF)\n",
        "  CP = []\n",
        "  last = 0\n",
        "  for i in range(len(new_ch)):\n",
        "    CP.append(last + P[i])\n",
        "    last += P[i]\n",
        "  for i in range(n):\n",
        "    r = random.random()\n",
        "    for j in range(len(new_ch)):\n",
        "      if(r <= CP[j]):\n",
        "        newPop.append(new_ch[j])\n",
        "        break\n",
        "  if(maxFF <= FF(bestOld)):\n",
        "    newPop[0] = bestOld\n",
        "  return newPop"
      ],
      "metadata": {
        "id": "7m7wVktnpl1Q"
      },
      "execution_count": null,
      "outputs": []
    },
    {
      "cell_type": "code",
      "source": [
        "firstPop = 30  # first population length = 20\n",
        "P_m = 0.1\n",
        "P_c = 0.8\n",
        "\n",
        "ch = []\n",
        "ch = init_first_pop(firstPop, n)\n",
        "print('first population : ', ch, '\\n')\n",
        "\n",
        "x = []\n",
        "for _ in range(1000):\n",
        "  ch_new = cross_over(ch, firstPop, P_c)\n",
        "  ch_new = mutation(ch_new, firstPop, P_m)\n",
        "  ch = selection(ch, ch_new, firstPop)\n",
        "  best = ch[0]\n",
        "  for point in ch:\n",
        "    if(FF(best) <= FF(point)):\n",
        "        best = point\n",
        "  x.append(FF(best))\n",
        "print(\"Best answer: \", toInt(''.join(map(str, best))))\n",
        "\n",
        "import matplotlib.pyplot as plt\n",
        "plt.plot(x, marker='o', linestyle='-', color='b')\n",
        "plt.xlabel('Index of Generation')\n",
        "plt.ylabel('Value of Best choromosomes FF')\n",
        "plt.title('FF\\'s plot')\n",
        "plt.show()"
      ],
      "metadata": {
        "id": "zgd0dLhsqUR3",
        "colab": {
          "base_uri": "https://localhost:8080/",
          "height": 544
        },
        "outputId": "4b943da3-aeca-44a5-90e1-e090da3ca380"
      },
      "execution_count": null,
      "outputs": [
        {
          "output_type": "stream",
          "name": "stdout",
          "text": [
            "first population :  [[0, 0, 0, 0, 0, 1, 1], [0, 0, 0, 1, 0, 0, 1], [1, 0, 1, 1, 0, 1, 0], [1, 1, 0, 1, 1, 0, 0], [0, 0, 0, 1, 1, 1, 1], [0, 0, 0, 0, 1, 1, 0], [1, 1, 0, 0, 1, 1, 0], [0, 0, 0, 0, 0, 1, 1], [1, 1, 1, 0, 0, 0, 0], [1, 1, 0, 1, 0, 1, 1], [1, 0, 1, 0, 0, 1, 0], [0, 0, 1, 1, 0, 0, 1], [0, 0, 1, 0, 0, 0, 1], [1, 0, 1, 1, 0, 1, 0], [0, 1, 1, 1, 0, 1, 0], [0, 0, 0, 1, 1, 0, 1], [0, 0, 1, 1, 0, 1, 1], [1, 0, 0, 1, 1, 1, 1], [0, 1, 1, 1, 0, 0, 0], [1, 1, 1, 0, 1, 1, 0], [0, 0, 0, 0, 0, 0, 1], [0, 0, 0, 1, 1, 1, 1], [1, 1, 0, 0, 1, 1, 1], [1, 0, 0, 0, 0, 0, 0], [1, 1, 0, 1, 1, 1, 1], [0, 1, 1, 1, 0, 1, 0], [1, 0, 1, 0, 0, 1, 1], [1, 1, 0, 1, 0, 1, 1], [0, 0, 0, 1, 0, 0, 1], [0, 0, 0, 0, 1, 1, 0]] \n",
            "\n",
            "Best answer:  4\n"
          ]
        },
        {
          "output_type": "display_data",
          "data": {
            "text/plain": [
              "<Figure size 640x480 with 1 Axes>"
            ],
            "image/png": "[encoded data removed]"
          },
          "metadata": {}
        }
      ]
    }
  ]
}